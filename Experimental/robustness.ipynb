{
 "cells": [
  {
   "cell_type": "code",
   "execution_count": 34,
   "metadata": {},
   "outputs": [],
   "source": [
    "import os\n",
    "import networkx as nx\n",
    "import time\n",
    "from measures import run_measure\n",
    "from cascading import Cascading\n",
    "from attacks import Attack\n",
    "from graphs import graph_loader\n"
   ]
  },
  {
   "cell_type": "code",
   "execution_count": 2,
   "metadata": {},
   "outputs": [],
   "source": [
    "# count number of files in the directory\n",
    "DIR = 'ns grainer'\n",
    "total_grains = len([name for name in os.listdir(DIR) if os.path.isfile(os.path.join(DIR, name))])"
   ]
  },
  {
   "cell_type": "code",
   "execution_count": null,
   "metadata": {},
   "outputs": [],
   "source": [
    "graph = graph_loader(graph_type='BA', n=1000, seed=1)\n",
    "\n",
    "spectral_radius = run_measure(graph, measure='spectral_radius')\n",
    "print(\"Spectral radius:\", spectral_radius)\n",
    "\n",
    "effective_resistance = run_measure(graph, measure='effective_resistance')\n",
    "print(\"Effective resistance:\", effective_resistance)"
   ]
  },
  {
   "cell_type": "markdown",
   "metadata": {},
   "source": [
    "Link to the paper:\n",
    "https://arxiv.org/pdf/2006.05648.pdf"
   ]
  },
  {
   "cell_type": "code",
   "execution_count": null,
   "metadata": {},
   "outputs": [],
   "source": [
    "\n",
    "graph = graph_loader('BA', n=400, seed=1)\n",
    "\n",
    "params = {\n",
    "    'runs': 1,\n",
    "    'steps': 100,\n",
    "    'seed': 1,\n",
    "\n",
    "    'l': 0.8,\n",
    "    'r': 0.2,\n",
    "    'c': int(0.1 * len(graph)),\n",
    "\n",
    "    'k_a': 30,\n",
    "    'attack': 'rb_node',\n",
    "    'attack_approx': int(0.1 * len(graph)),\n",
    "\n",
    "    'k_d': 0,\n",
    "    'defense': None,\n",
    "\n",
    "    'robust_measure': 'largest_connected_component',\n",
    "\n",
    "    'plot_transition': True,  # False turns off key simulation image \"snapshots\"\n",
    "    'gif_animation': True,  # True creaets a video of the simulation (MP4 file)\n",
    "    'gif_snaps': False,  # True saves each frame of the simulation as an image\n",
    "\n",
    "    'edge_style': 'bundled',\n",
    "    'node_style': 'force_atlas',\n",
    "    'fa_iter': 2000,\n",
    "}\n",
    "\n",
    "cascading = Cascading(graph, **params)\n",
    "results = cascading.run_simulation()\n",
    "\n",
    "cascading.plot_results(results)"
   ]
  },
  {
   "cell_type": "markdown",
   "metadata": {},
   "source": [
    "Note about the meaning (copy-paste from the paper): \n",
    " - **Initial degree removal (ID)** targets nodes with the highest degree $\\delta_v$. This has the effect of reducing the total number of edges in the network as fast as possible. Since this attack only considers its neighbors when making a decision, it is considered a local attack. The benefit of this locality is low computational overhead.\n",
    " - **Initial betweenness removal (IB)** targets nodes with high betweenness centrality $b_v$. This has the effect of destroying as many paths as possible. Since path information is aggregated from across the network, this is considered a global attack strategy. Unfortunately, global information comes with significant computational overhead compared to a local attacks.\n",
    " - **Recalculated degree (RD)** and **betweenness removal (RB)** follow the same process as ID and IB, respectively, with one additional step to recalculate the degree (or betweenness) distribution aftera node is removed. This recalculation often results in a stronger attack, however, recalculating these distributions adds a significant amount of computational overhead to the attack.\n",
    " - **Random removal (RND)** randomly remove node or edge.\n",
    "No idea on the others. I suppose 'deg' stands for degree and 'eig' for some eigenvalue-based method. Can't find anything on 'ns' and 'pr'."
   ]
  },
  {
   "cell_type": "code",
   "execution_count": null,
   "metadata": {},
   "outputs": [],
   "source": [
    "methods = {\n",
    "    'ns_node': get_node_ns,\n",
    "    'pr_node': get_node_pr,\n",
    "    'eig_node': get_node_eig,\n",
    "    'id_node': get_node_id,\n",
    "    'rd_node': get_node_rd,\n",
    "    'ib_node': get_node_ib,\n",
    "    'rb_node': get_node_rb,\n",
    "    'rnd_node': get_node_rnd,\n",
    "\n",
    "    'ns_line_edge': get_edge_line_ns,\n",
    "    'pr_line_edge': get_edge_line_pr,\n",
    "    'eig_line_edge': get_edge_line_eig,\n",
    "    'deg_line_edge': get_edge_line_deg,\n",
    "    'id_edge': get_edge_id,\n",
    "    'rd_edge': get_edge_rd,\n",
    "    'ib_edge': get_edge_ib,\n",
    "    'rb_edge': get_edge_rb,\n",
    "    'rnd_edge': get_edge_rnd\n",
    "}"
   ]
  },
  {
   "cell_type": "code",
   "execution_count": null,
   "metadata": {},
   "outputs": [],
   "source": [
    "import pickle5 as pickle\n",
    "for i in range(total_grains, 1, -1):\n",
    "    print(i)\n",
    "    with open(f\"ns grainer/graph_iter_{i}.gpickle\", 'rb') as pickle_file:\n",
    "        graph = pickle.load(pickle_file)\n",
    "    # nx.draw_networkx(graph, node_size=1, with_labels=False)\n",
    "    \n",
    "    start = time.time()\n",
    "    spectral_radius = run_measure(graph, measure='spectral_radius')\n",
    "    print(\"\\tSpectral radius:\", spectral_radius)\n",
    "\n",
    "    effective_resistance = run_measure(graph, measure='effective_resistance')\n",
    "    print(\"\\tEffective resistance:\", effective_resistance)\n",
    "    end = time.time()\n",
    "    print(\"\\tTime needed: {:.2f} seconds\".format(end-start))\n",
    "    #break"
   ]
  },
  {
   "cell_type": "code",
   "execution_count": 59,
   "metadata": {},
   "outputs": [
    {
     "name": "stdout",
     "output_type": "stream",
     "text": [
      "Running simulation 1 times\n"
     ]
    },
    {
     "data": {
      "text/plain": [
       "<Figure size 1440x1440 with 0 Axes>"
      ]
     },
     "metadata": {},
     "output_type": "display_data"
    },
    {
     "data": {
      "text/plain": [
       "<Figure size 1440x1440 with 0 Axes>"
      ]
     },
     "metadata": {},
     "output_type": "display_data"
    },
    {
     "data": {
      "text/plain": [
       "<Figure size 1440x1440 with 0 Axes>"
      ]
     },
     "metadata": {},
     "output_type": "display_data"
    },
    {
     "data": {
      "text/plain": [
       "<Figure size 1440x1440 with 0 Axes>"
      ]
     },
     "metadata": {},
     "output_type": "display_data"
    },
    {
     "data": {
      "text/plain": [
       "<Figure size 1440x1440 with 0 Axes>"
      ]
     },
     "metadata": {},
     "output_type": "display_data"
    },
    {
     "data": {
      "text/plain": [
       "<Figure size 1440x1440 with 0 Axes>"
      ]
     },
     "metadata": {},
     "output_type": "display_data"
    },
    {
     "data": {
      "image/png": "[encoded data removed]",
      "text/plain": [
       "<Figure size 460.8x345.6 with 1 Axes>"
      ]
     },
     "metadata": {
      "needs_background": "light"
     },
     "output_type": "display_data"
    },
    {
     "name": "stdout",
     "output_type": "stream",
     "text": [
      "\tTime needed: 164.71 seconds\n"
     ]
    },
    {
     "data": {
      "text/plain": [
       "<Figure size 432x288 with 0 Axes>"
      ]
     },
     "metadata": {},
     "output_type": "display_data"
    }
   ],
   "source": [
    "i = total_grains\n",
    "with open(f\"ns grainer/graph_iter_{i}.gpickle\", 'rb') as pickle_file:\n",
    "    graph = pickle.load(pickle_file)\n",
    "# nx.draw_networkx(graph, node_size=1, with_labels=False)\n",
    "\n",
    "start = time.time()\n",
    "\n",
    "params = {\n",
    "    # PARAMS\n",
    "    'runs': 1,\n",
    "    'steps': 30,  # number of attack steps\n",
    "    'seed': 1,\n",
    "    \n",
    "    #'l': 0.8,\n",
    "    #'r': 0.2,\n",
    "    #'c': int(0.1 * len(graph)),\n",
    "    \n",
    "    \n",
    "    # ATTACK\n",
    "    'attack': 'rb_node',  # type (see above for description)\n",
    "    # 'attack_approx': int(0.1*len(graph)), # attack approximation parameter (not available for every measure)\n",
    "\n",
    "    # DEFENSE\n",
    "    'k_d': 0,  # numbers of node to defend\n",
    "    'defense': None,  # defense type\n",
    "\n",
    "    # MEASURE\n",
    "    'robust_measure': 'largest_connected_component',\n",
    "\n",
    "    # PLOT\n",
    "    'plot_transition': True,\n",
    "    'gif_animation': True,\n",
    "\n",
    "    'edge_style': 'bundled',  # 'curved' or 'bundled', or None for straight\n",
    "    'node_style': 'force_atlas',  # 'force_atlas' or 'spectral'\n",
    "    'fa_iter': 1000,  # number of iterations for convergence of atlas2\n",
    "    # bundled and force_atlas seem to yield best result\n",
    "}\n",
    "\n",
    "atk = Attack(graph, **params)\n",
    "results = atk.run_simulation()\n",
    "atk.plot_results(results)\n",
    "\n",
    "end = time.time()\n",
    "print(\"\\tTime needed: {:.2f} seconds\".format(end-start))\n"
   ]
  },
  {
   "cell_type": "code",
   "execution_count": 57,
   "metadata": {},
   "outputs": [
    {
     "name": "stdout",
     "output_type": "stream",
     "text": [
      "Running simulation 1 times\n"
     ]
    },
    {
     "data": {
      "text/plain": [
       "<Figure size 1440x1440 with 0 Axes>"
      ]
     },
     "metadata": {},
     "output_type": "display_data"
    },
    {
     "data": {
      "text/plain": [
       "<Figure size 1440x1440 with 0 Axes>"
      ]
     },
     "metadata": {},
     "output_type": "display_data"
    },
    {
     "data": {
      "text/plain": [
       "<Figure size 1440x1440 with 0 Axes>"
      ]
     },
     "metadata": {},
     "output_type": "display_data"
    },
    {
     "data": {
      "text/plain": [
       "<Figure size 1440x1440 with 0 Axes>"
      ]
     },
     "metadata": {},
     "output_type": "display_data"
    },
    {
     "data": {
      "text/plain": [
       "<Figure size 1440x1440 with 0 Axes>"
      ]
     },
     "metadata": {},
     "output_type": "display_data"
    },
    {
     "data": {
      "text/plain": [
       "<Figure size 1440x1440 with 0 Axes>"
      ]
     },
     "metadata": {},
     "output_type": "display_data"
    },
    {
     "data": {
      "image/png": "[encoded data removed]",
      "text/plain": [
       "<Figure size 460.8x345.6 with 1 Axes>"
      ]
     },
     "metadata": {
      "needs_background": "light"
     },
     "output_type": "display_data"
    },
    {
     "data": {
      "text/plain": [
       "<Figure size 432x288 with 0 Axes>"
      ]
     },
     "metadata": {},
     "output_type": "display_data"
    }
   ],
   "source": [
    "graph = graph_loader(graph_type='BA', n=200, seed=1)\n",
    "\n",
    "params = {\n",
    "    'runs': 1,\n",
    "    'steps': 30,\n",
    "    'seed': 1,\n",
    "    \n",
    "    'l': 0.8,\n",
    "    'r': 0.2,\n",
    "    'c': int(0.1 * len(graph)),\n",
    "\n",
    "\n",
    "    'attack': 'rb_node',\n",
    "    'attack_approx': int(0.1*len(graph)),\n",
    "\n",
    "    'k_d': 0,\n",
    "    'defense': None,\n",
    "\n",
    "    'robust_measure': 'largest_connected_component',\n",
    "\n",
    "    'plot_transition': True,\n",
    "    'gif_animation': True,\n",
    "\n",
    "    'edge_style': None,\n",
    "    'node_style': 'spectral',\n",
    "    'fa_iter': 2000,\n",
    "}\n",
    "\n",
    "cf = Attack(graph, **params)\n",
    "results = cf.run_simulation()\n",
    "cf.plot_results(results)\n"
   ]
  },
  {
   "cell_type": "code",
   "execution_count": null,
   "metadata": {},
   "outputs": [],
   "source": []
  }
 ],
 "metadata": {
  "kernelspec": {
   "display_name": "Python 3",
   "language": "python",
   "name": "python3"
  },
  "language_info": {
   "codemirror_mode": {
    "name": "ipython",
    "version": 3
   },
   "file_extension": ".py",
   "mimetype": "text/x-python",
   "name": "python",
   "nbconvert_exporter": "python",
   "pygments_lexer": "ipython3",
   "version": "3.6.10"
  }
 },
 "nbformat": 4,
 "nbformat_minor": 4
}
