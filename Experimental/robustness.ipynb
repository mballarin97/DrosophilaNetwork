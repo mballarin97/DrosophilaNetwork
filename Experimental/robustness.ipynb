{
 "cells": [
  {
   "cell_type": "code",
   "execution_count": 3,
   "metadata": {},
   "outputs": [
    {
     "name": "stdout",
     "output_type": "stream",
     "text": [
      "Spectral radius: 13.67\n",
      "Effective resistance: 284364.09\n"
     ]
    }
   ],
   "source": [
    "from measures import run_measure\n",
    "from graphs import graph_loader\n",
    "\n",
    "graph = graph_loader(graph_type='BA', n=1000, seed=1)\n",
    "\n",
    "spectral_radius = run_measure(graph, measure='spectral_radius')\n",
    "print(\"Spectral radius:\", spectral_radius)\n",
    "\n",
    "effective_resistance = run_measure(graph, measure='effective_resistance')\n",
    "print(\"Effective resistance:\", effective_resistance)"
   ]
  },
  {
   "cell_type": "markdown",
   "metadata": {},
   "source": [
    "Link to the paper:\n",
    "https://arxiv.org/pdf/2006.05648.pdf"
   ]
  },
  {
   "cell_type": "code",
   "execution_count": 1,
   "metadata": {},
   "outputs": [
    {
     "name": "stdout",
     "output_type": "stream",
     "text": [
      "Running simulation 1 times\n"
     ]
    },
    {
     "data": {
      "text/plain": [
       "<Figure size 1440x1440 with 0 Axes>"
      ]
     },
     "metadata": {},
     "output_type": "display_data"
    },
    {
     "data": {
      "text/plain": [
       "<Figure size 1440x1440 with 0 Axes>"
      ]
     },
     "metadata": {},
     "output_type": "display_data"
    },
    {
     "data": {
      "text/plain": [
       "<Figure size 1440x1440 with 0 Axes>"
      ]
     },
     "metadata": {},
     "output_type": "display_data"
    },
    {
     "data": {
      "text/plain": [
       "<Figure size 1440x1440 with 0 Axes>"
      ]
     },
     "metadata": {},
     "output_type": "display_data"
    },
    {
     "data": {
      "text/plain": [
       "<Figure size 1440x1440 with 0 Axes>"
      ]
     },
     "metadata": {},
     "output_type": "display_data"
    },
    {
     "data": {
      "image/png": "[encoded data removed]",
      "text/plain": [
       "<Figure size 460.8x345.6 with 1 Axes>"
      ]
     },
     "metadata": {
      "needs_background": "light"
     },
     "output_type": "display_data"
    },
    {
     "data": {
      "text/plain": [
       "<Figure size 432x288 with 0 Axes>"
      ]
     },
     "metadata": {},
     "output_type": "display_data"
    }
   ],
   "source": [
    "from cascading import Cascading\n",
    "from graphs import graph_loader\n",
    "\n",
    "graph = graph_loader('BA', n=400, seed=1)\n",
    "\n",
    "params = {\n",
    "    'runs': 1,\n",
    "    'steps': 100,\n",
    "    'seed': 1,\n",
    "\n",
    "    'l': 0.8,\n",
    "    'r': 0.2,\n",
    "    'c': int(0.1 * len(graph)),\n",
    "\n",
    "    'k_a': 30,\n",
    "    'attack': 'rb_node',\n",
    "    'attack_approx': int(0.1 * len(graph)),\n",
    "\n",
    "    'k_d': 0,\n",
    "    'defense': None,\n",
    "\n",
    "    'robust_measure': 'largest_connected_component',\n",
    "\n",
    "    'plot_transition': True,  # False turns off key simulation image \"snapshots\"\n",
    "    'gif_animation': False,  # True creaets a video of the simulation (MP4 file)\n",
    "    'gif_snaps': False,  # True saves each frame of the simulation as an image\n",
    "\n",
    "    'edge_style': 'bundled',\n",
    "    'node_style': 'force_atlas',\n",
    "    'fa_iter': 2000,\n",
    "}\n",
    "\n",
    "cascading = Cascading(graph, **params)\n",
    "results = cascading.run_simulation()\n",
    "\n",
    "cascading.plot_results(results)"
   ]
  },
  {
   "cell_type": "markdown",
   "metadata": {},
   "source": [
    "Note about the meaning (copy-paste from the paper): \n",
    " - **Initial degree removal (ID)** targets nodes with the highest degree $\\delta_v$. This has the effect of reducing the total number of edges in the network as fast as possible. Since this attack only considers itsneighbors when making a decision, it is considered alocal attack. The benefit of this locality is low computational overhead.\n",
    " - **Initial betweenness removal (IB)** targets nodes with high betweenness centrality $b_v$. This has the effect of destroying as manypaths as possible. Since path information is aggregated from across the network, this is considered aglobal attackstrategy. Unfor-tunately, global information comes with significant computationaloverhead compared to a local attacks.\n",
    " - **Recalculated degree (RD)** and **betweenness removal (RB)** follow the same process as ID and IB, respectively, with one additional step to recalculate the degree (or betweenness) distribution aftera node is removed. This recalculation often results in a stronger attack, however, recalculating these distributions adds a significant amount of computational overhead to the attack.\n",
    " - **Random removal (RND)** randomly remove node or edge.\n",
    "No idea on the others. I suppose 'deg' stands for degree and 'eig' for some eigenvalue-based method. Can't find anything on 'ns' and 'pr'."
   ]
  },
  {
   "cell_type": "code",
   "execution_count": null,
   "metadata": {},
   "outputs": [],
   "source": [
    "methods = {\n",
    "    'ns_node': get_node_ns,\n",
    "    'pr_node': get_node_pr,\n",
    "    'eig_node': get_node_eig,\n",
    "    'id_node': get_node_id,\n",
    "    'rd_node': get_node_rd,\n",
    "    'ib_node': get_node_ib,\n",
    "    'rb_node': get_node_rb,\n",
    "    'rnd_node': get_node_rnd,\n",
    "\n",
    "    'ns_line_edge': get_edge_line_ns,\n",
    "    'pr_line_edge': get_edge_line_pr,\n",
    "    'eig_line_edge': get_edge_line_eig,\n",
    "    'deg_line_edge': get_edge_line_deg,\n",
    "    'id_edge': get_edge_id,\n",
    "    'rd_edge': get_edge_rd,\n",
    "    'ib_edge': get_edge_ib,\n",
    "    'rb_edge': get_edge_rb,\n",
    "    'rnd_edge': get_edge_rnd\n",
    "}"
   ]
  }
 ],
 "metadata": {
  "kernelspec": {
   "display_name": "Python 3",
   "language": "python",
   "name": "python3"
  },
  "language_info": {
   "codemirror_mode": {
    "name": "ipython",
    "version": 3
   },
   "file_extension": ".py",
   "mimetype": "text/x-python",
   "name": "python",
   "nbconvert_exporter": "python",
   "pygments_lexer": "ipython3",
   "version": "3.6.10"
  }
 },
 "nbformat": 4,
 "nbformat_minor": 4
}
